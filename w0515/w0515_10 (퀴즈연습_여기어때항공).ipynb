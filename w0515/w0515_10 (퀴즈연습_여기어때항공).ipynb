{
 "cells": [
  {
   "cell_type": "markdown",
   "id": "f3e29873",
   "metadata": {},
   "source": [
    "https://www.yeogi.com/"
   ]
  },
  {
   "cell_type": "markdown",
   "id": "b8be37e9",
   "metadata": {},
   "source": [
    "여기어때<br>\n",
    "오사카<br>\n",
    "9.24<br>\n",
    "9.27 검색<br>\n",
    "\n",
    "금액 220,000원 이하<br>\n",
    "평점 8.0 이상<br>\n",
    "평가수 5000명 이상<br>\n",
    "\n",
    "\n",
    "출력하시오.<br>"
   ]
  },
  {
   "cell_type": "code",
   "execution_count": 122,
   "id": "a4842871",
   "metadata": {},
   "outputs": [],
   "source": [
    "import requests\n",
    "from bs4 import BeautifulSoup\n",
    "from selenium import webdriver\n",
    "from selenium.webdriver.common.keys import Keys\n",
    "from selenium.webdriver.common.by import By\n",
    "from selenium.webdriver.chrome.service import Service\n",
    "from selenium.webdriver.chrome.options import Options\n",
    "from selenium.webdriver.support.ui import WebDriverWait\n",
    "from selenium.webdriver.support import expected_conditions as EC\n",
    "\n",
    "import csv\n",
    "import time\n",
    "import random\n",
    "\n",
    "# 크롬 옵션 설정 - 셀레니움 접근 제한 : 보안접근 해제\n",
    "options = Options()\n",
    "options.add_argument(\"--disable-blink-features=AutomationControlled\")  # 자동화 티 안 나게\n",
    "options.add_argument(\"start-maximized\")  # 브라우저 창 최대화\n",
    "options.add_argument(\"user-agent=Mozilla/5.0 (Windows NT 10.0; Win64; x64) AppleWebKit/537.36 (KHTML, like Gecko) Chrome/123.0.0.0 Safari/537.36\")  # 사용자 에이전트 변경\n",
    "options.add_experimental_option(\"excludeSwitches\", [\"enable-automation\"])\n",
    "options.add_experimental_option('useAutomationExtension', False)\n",
    "\n",
    "# 브라우저 실행\n",
    "browser = webdriver.Chrome(options=options)\n",
    "browser.maximize_window() # 창 최대화\n",
    "\n",
    "### 1. 여기어때 접속\n",
    "url = \"https://www.yeogi.com/\"\n",
    "browser.get(url)"
   ]
  },
  {
   "cell_type": "code",
   "execution_count": 123,
   "id": "3582b804",
   "metadata": {},
   "outputs": [],
   "source": [
    "# 1. 여행지 검색 - 오사카\n",
    "time.sleep(2)\n",
    "elem = browser.find_element(By.XPATH,'//*[@id=\"__next\"]/main/section[1]/div/div/div[2]/form/div[1]/div[1]/div/label/div/div[2]/input')\n",
    "elem.click()\n",
    "# 오사카 검색 입력\n",
    "elem.send_keys(\"오사카\")\n",
    "time.sleep(1)\n",
    "# 오사카 선택\n",
    "browser.find_element(By.XPATH,'//*[@id=\"__next\"]/main/section[1]/div/div/div[2]/form/div[1]/div[2]/ul/li/div[2]/div/span').click()"
   ]
  },
  {
   "cell_type": "code",
   "execution_count": 124,
   "id": "5cbd5be0",
   "metadata": {},
   "outputs": [],
   "source": [
    "# 2. 날짜 선택 - 9.24 ~ 9.27\n",
    "time.sleep(1)\n",
    "# 오른쪽 이동 (9월로)\n",
    "browser.find_element(By.XPATH,'//*[@id=\"__next\"]/main/section[1]/div/div/div[2]/form/div[2]/div[2]/div/div[1]/div[1]/button[2]').click()\n",
    "time.sleep(1)\n",
    "browser.find_element(By.XPATH,'//*[@id=\"__next\"]/main/section[1]/div/div/div[2]/form/div[2]/div[2]/div/div[1]/div[1]/button[2]').click()\n",
    "time.sleep(1)\n",
    "# 출발날짜 선택\n",
    "browser.find_element(By.XPATH,'//*[@id=\"__next\"]/main/section[1]/div/div/div[2]/form/div[2]/div[2]/div/div[1]/div[2]/div[2]/div/div/ul[2]/li[25]/button').click()\n",
    "time.sleep(1)\n",
    "# 도착날짜 선택\n",
    "browser.find_element(By.XPATH,'//*[@id=\"__next\"]/main/section[1]/div/div/div[2]/form/div[2]/div[2]/div/div[1]/div[2]/div[2]/div/div/ul[2]/li[28]/button').click()\n",
    "time.sleep(1)"
   ]
  },
  {
   "cell_type": "code",
   "execution_count": 125,
   "id": "38a5297f",
   "metadata": {},
   "outputs": [],
   "source": [
    "# 3. 검색버튼 클릭\n",
    "browser.find_element(By.XPATH,'//*[@id=\"__next\"]/main/section[1]/div/div/div[2]/form/div[4]/button').click()\n",
    "time.sleep(1)"
   ]
  },
  {
   "cell_type": "code",
   "execution_count": 126,
   "id": "a3ab2a69",
   "metadata": {},
   "outputs": [],
   "source": [
    "# 4. 스크롤 내리기\n",
    "# 현재 사이트 높이를 가져오는 자바스크립트\n",
    "prev_height = browser.execute_script(\"return document.body.scrollHeight\")\n",
    "\n",
    "# 반복 실행\n",
    "while True:\n",
    "    # 현재 브라우저에서 0에서 현재 높이까지 스크롤 내리기\n",
    "    # 자바스크립트 실행\n",
    "    browser.execute_script(\"window.scrollTo(0,document.body.scrollHeight)\")\n",
    "    time.sleep(1)\n",
    "    # 변동된 현재 문서 높이을 가져오기\n",
    "    curr_height = browser.execute_script(\"return document.body.scrollHeight\")\n",
    "    # 스크롤 높이가 변동이 없을시\n",
    "    if curr_height == prev_height: break \n",
    "    prev_height = curr_height # 현재 높이를 다시 입력해서 스크롤 내리기 재실행"
   ]
  },
  {
   "cell_type": "code",
   "execution_count": null,
   "id": "471a4362",
   "metadata": {},
   "outputs": [],
   "source": [
    "### 1페이지\n",
    "\n",
    "# html 파싱\n",
    "soup = BeautifulSoup(browser.page_source,\"lxml\")\n",
    "\n",
    "## 비행정보 모두 가져오기\n",
    "data = soup.find(\"div\",{\"class\":\"css-1poun1e\"})\n",
    "a_list = data.find_all(\"a\",{\"class\":\"gc-thumbnail-type-seller-card css-wels0m\"})\n",
    "\n",
    "\n",
    "# 호텔명 평점 평가수 금액 이미지링크\n",
    "\n",
    "for a in a_list:\n",
    "    ## 항공사 이름\n",
    "    title = a.find(\"h3\").get_text()\n",
    "    ## 평점\n",
    "    rate = a.find(\"div\",{\"class\":\"css-19f645y\"}).find(\"span\",{\"class\":\"css-9ml4lz\"}).get_text()\n",
    "    ## 평가수\n",
    "    rating = a.find(\"div\",{\"class\":\"css-1ar2n2o\"}).find(\"span\",{\"class\":\"css-oj6onp\"}).get_text().strip()[:-4]\n",
    "    ## 금액\n",
    "    price = a.find(\"span\",{\"class\":\"css-5r5920\"}).get_text()\n",
    "    \n",
    "    if int(price.replace(\",\",\"\"))>220000 or int(rating.replace(\",\",\"\"))<5000 or float(rate)<8.0:\n",
    "        continue\n",
    "    \n",
    "    print(title,rate,rating,price)\n",
    "    \n",
    "\n",
    "# ### 최저가 LIST정렬\n",
    "# dd_list = sorted(datas_list,key = lambda x:x[3]) # 순차정렬\n",
    "# # dd_list = sorted(d_list,key = lambda x:x[3], reverse=True ) # 역순정렬\n",
    "# print(dd_list)    "
   ]
  },
  {
   "cell_type": "code",
   "execution_count": 127,
   "id": "bb5fd3d9",
   "metadata": {},
   "outputs": [],
   "source": [
    "## 2페이지 이동\n",
    "browser.find_element(By.XPATH,'//*[@id=\"__next\"]/div/main/section/div[2]/div[2]/div/div/button[2]').click()\n",
    "time.sleep(1)"
   ]
  },
  {
   "cell_type": "code",
   "execution_count": 128,
   "id": "1e31b1f5",
   "metadata": {},
   "outputs": [],
   "source": [
    "# 4. 스크롤 내리기\n",
    "# 현재 사이트 높이를 가져오는 자바스크립트\n",
    "prev_height = browser.execute_script(\"return document.body.scrollHeight\")\n",
    "\n",
    "# 반복 실행\n",
    "while True:\n",
    "    # 현재 브라우저에서 0에서 현재 높이까지 스크롤 내리기\n",
    "    # 자바스크립트 실행\n",
    "    browser.execute_script(\"window.scrollTo(0,document.body.scrollHeight)\")\n",
    "    time.sleep(1)\n",
    "    # 변동된 현재 문서 높이을 가져오기\n",
    "    curr_height = browser.execute_script(\"return document.body.scrollHeight\")\n",
    "    # 스크롤 높이가 변동이 없을시\n",
    "    if curr_height == prev_height: break \n",
    "    prev_height = curr_height # 현재 높이를 다시 입력해서 스크롤 내리기 재실행"
   ]
  },
  {
   "cell_type": "code",
   "execution_count": 129,
   "id": "317b95c9",
   "metadata": {},
   "outputs": [
    {
     "name": "stdout",
     "output_type": "stream",
     "text": [
      "IP 시티 호텔 오사카 8.0 5,343 105,363\n",
      "소테츠 그랜드 프레사 오사카 난바 8.7 24,033 143,261\n",
      "오사카 후지야 호텔 8.2 6,120 118,378\n",
      "호텔 케이한 난바 그란데 8.9 8,143 156,355\n",
      "하톤 호텔 신사이바시 8.5 12,278 158,000\n"
     ]
    }
   ],
   "source": [
    "### 2페이지\n",
    "\n",
    "# html 파싱\n",
    "soup = BeautifulSoup(browser.page_source,\"lxml\")\n",
    "\n",
    "## 비행정보 모두 가져오기\n",
    "data = soup.find(\"div\",{\"class\":\"css-1poun1e\"})\n",
    "a_list = data.find_all(\"a\",{\"class\":\"gc-thumbnail-type-seller-card css-wels0m\"})\n",
    "\n",
    "\n",
    "# 호텔명 평점 평가수 금액 이미지링크\n",
    "\n",
    "for a in a_list:\n",
    "    ## 항공사 이름\n",
    "    title = a.find(\"h3\").get_text()\n",
    "    ## 평점\n",
    "    rate = a.find(\"div\",{\"class\":\"css-19f645y\"}).find(\"span\",{\"class\":\"css-9ml4lz\"}).get_text()\n",
    "    ## 평가수\n",
    "    rating = a.find(\"div\",{\"class\":\"css-1ar2n2o\"}).find(\"span\",{\"class\":\"css-oj6onp\"}).get_text().strip()[:-4]\n",
    "    ## 금액\n",
    "    price = a.find(\"span\",{\"class\":\"css-5r5920\"}).get_text()\n",
    "    \n",
    "    if int(price.replace(\",\",\"\"))>220000 or int(rating.replace(\",\",\"\"))<5000 or float(rate)<8.0:\n",
    "        continue\n",
    "    \n",
    "    print(title,rate,rating,price)\n",
    "    \n",
    "\n",
    "# ### 최저가 LIST정렬\n",
    "# dd_list = sorted(datas_list,key = lambda x:x[3]) # 순차정렬\n",
    "# # dd_list = sorted(d_list,key = lambda x:x[3], reverse=True ) # 역순정렬\n",
    "# print(dd_list)    "
   ]
  }
 ],
 "metadata": {
  "kernelspec": {
   "display_name": "Python 3",
   "language": "python",
   "name": "python3"
  },
  "language_info": {
   "codemirror_mode": {
    "name": "ipython",
    "version": 3
   },
   "file_extension": ".py",
   "mimetype": "text/x-python",
   "name": "python",
   "nbconvert_exporter": "python",
   "pygments_lexer": "ipython3",
   "version": "3.13.2"
  }
 },
 "nbformat": 4,
 "nbformat_minor": 5
}
