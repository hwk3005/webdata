{
 "cells": [
  {
   "cell_type": "markdown",
   "id": "345700e3",
   "metadata": {},
   "source": [
    "Q.<br>\n",
    "제목, 개봉일, 평점<br>\n",
    "평점에 대한 평균과 합계, 최대값,최소값을 출력하시오.<br>\n",
    "DataFrame 사용해서 적용<br>"
   ]
  },
  {
   "cell_type": "code",
   "execution_count": 34,
   "id": "f6f42216",
   "metadata": {},
   "outputs": [],
   "source": [
    "import requests\n",
    "from bs4 import BeautifulSoup\n",
    "from selenium import webdriver\n",
    "from selenium.webdriver.common.keys import Keys\n",
    "from selenium.webdriver.common.by import By\n",
    "from selenium.webdriver.chrome.service import Service\n",
    "from selenium.webdriver.chrome.options import Options\n",
    "from selenium.webdriver.support.ui import WebDriverWait\n",
    "from selenium.webdriver.support import expected_conditions as EC\n",
    "import csv\n",
    "import time\n",
    "import random\n",
    "from datetime import datetime\n",
    "# 크롬 옵션 설정 - 셀레니움 접근 제한 : 보안접근 해제\n",
    "options = Options()\n",
    "options.add_argument(\"--disable-blink-features=AutomationControlled\")  # 자동화 티 안 나게\n",
    "options.add_argument(\"start-maximized\")  # 브라우저 창 최대화\n",
    "options.add_argument(\"user-agent=Mozilla/5.0 (Windows NT 10.0; Win64; x64) AppleWebKit/537.36 (KHTML, like Gecko) Chrome/123.0.0.0 Safari/537.36\")  # 사용자 에이전트 변경\n",
    "options.add_experimental_option(\"excludeSwitches\", [\"enable-automation\"])\n",
    "options.add_experimental_option('useAutomationExtension', False)\n",
    "# 브라우저 실행\n",
    "browser = webdriver.Chrome(options=options)\n",
    "browser.maximize_window() # 창 최대화\n",
    "### 1. 월별개봉영화 접속\n",
    "url = \"https://search.naver.com/search.naver?where=nexearch&sm=tab_etc&qvt=0&query=%EC%9B%94%EB%B3%84%EA%B0%9C%EB%B4%89%EC%98%81%ED%99%94\"\n",
    "browser.get(url)"
   ]
  },
  {
   "cell_type": "code",
   "execution_count": 35,
   "id": "7a5d07d2",
   "metadata": {},
   "outputs": [
    {
     "data": {
      "text/plain": [
       "13"
      ]
     },
     "execution_count": 35,
     "metadata": {},
     "output_type": "execute_result"
    }
   ],
   "source": [
    "time.sleep(2)  # 페이지 로딩 대기\n",
    "\n",
    "# 파일 저장 (참고: w0512_08_멜론차트.py)\n",
    "ff = open(\"file/movie.csv\",\"w\",encoding=\"utf-8-sig\",newline=\"\")\n",
    "writer = csv.writer(ff)\n",
    "writer.writerow(['제목','개봉 날짜','평점'])"
   ]
  },
  {
   "cell_type": "code",
   "execution_count": 36,
   "id": "63aa6d7b",
   "metadata": {},
   "outputs": [],
   "source": [
    "# 1월로 이동\n",
    "browser.find_element(By.XPATH,'//*[@id=\"main_pack\"]/div[3]/div[2]/div/div/div/div[1]/div[3]/div/div/ul[2]/li[1]/a').click()\n",
    "time.sleep(1)"
   ]
  },
  {
   "cell_type": "code",
   "execution_count": 38,
   "id": "92f389dc",
   "metadata": {},
   "outputs": [
    {
     "name": "stdout",
     "output_type": "stream",
     "text": [
      "더 퍼스트 슬램덩크\n",
      "2025.01.04.\n",
      "9.25\n",
      "--------------------------------------------------\n",
      "해리 포터와 죽음의 성물 2\n",
      "2025.01.15.\n",
      "9.17\n",
      "--------------------------------------------------\n",
      "검은 수녀들\n",
      "2025.01.24.\n",
      "6.44\n",
      "--------------------------------------------------\n",
      "히트맨2\n",
      "2025.01.22.\n",
      "7.44\n",
      "--------------------------------------------------\n",
      "러브레터\n",
      "2025.01.01.\n",
      "9.32\n",
      "--------------------------------------------------\n",
      "마당을 나온 암탉\n",
      "2025.01.22.\n",
      "8.67\n",
      "--------------------------------------------------\n",
      "색, 계\n",
      "2025.01.01.\n",
      "8.98\n",
      "--------------------------------------------------\n",
      "말할 수 없는 비밀\n",
      "2025.01.27.\n",
      "8.62\n",
      "--------------------------------------------------\n"
     ]
    }
   ],
   "source": [
    "# html 파싱\n",
    "soup = BeautifulSoup(browser.page_source,'lxml')\n",
    "# 영화정보 가져오기\n",
    "datas = soup.find_all(\"div\",{\"class\":\"card_item\"})\n",
    "\n",
    "for data in datas:\n",
    "    # 제목\n",
    "    title = data.find(\"a\",{'class':'this_text _text'}).get_text().strip()\n",
    "    print(title)\n",
    "    # 개봉일\n",
    "    date = data.find(\"dl\",{\"class\":\"info_group type_visible\"}).find(\"dd\").get_text().strip()\n",
    "    print(date)\n",
    "    # 평점\n",
    "    rank = data.find(\"span\",{'class':\"num\"}).get_text().strip()\n",
    "    print(rank)\n",
    "    print(\"-\"*50)\n",
    "    writer.writerow([title,date,rank])\n",
    "\n",
    "## 파일 종료\n",
    "ff.close()"
   ]
  },
  {
   "cell_type": "code",
   "execution_count": null,
   "id": "6b06dbc1",
   "metadata": {},
   "outputs": [
    {
     "data": {
      "text/plain": [
       "제목\n",
       "검은 수녀들        6.44\n",
       "히트맨2          7.44\n",
       "말할 수 없는 비밀    8.62\n",
       "마당을 나온 암탉     8.67\n",
       "색, 계          8.98\n",
       "Name: 평점, dtype: float64"
      ]
     },
     "execution_count": 4,
     "metadata": {},
     "output_type": "execute_result"
    }
   ],
   "source": [
    "import pandas as pd\n",
    "\n",
    "df = pd.read_csv(\"file/movie.csv\",index_col='제목')\n",
    "# 평점 - 평균,합계,최대값,최소값 출력\n",
    "df['평점'].sum()\n",
    "df['평점'].mean()\n",
    "df['평점'].min()\n",
    "df['평점'].max()\n",
    "df['평점'].nlargest()\n",
    "df['평점'].nsmallest()\n",
    "\n",
    "# df.info()\n",
    "\n",
    "### df.info() 유용한 상황\n",
    "# 결측값(null 값) 확인\n",
    "# 데이터 타입(int, float, object 등) 확인\n",
    "# 데이터셋의 대략적인 구조 파악\n",
    "# 데이터 전처리 전에 빠르게 스캔할 때"
   ]
  }
 ],
 "metadata": {
  "kernelspec": {
   "display_name": "Python 3",
   "language": "python",
   "name": "python3"
  },
  "language_info": {
   "codemirror_mode": {
    "name": "ipython",
    "version": 3
   },
   "file_extension": ".py",
   "mimetype": "text/x-python",
   "name": "python",
   "nbconvert_exporter": "python",
   "pygments_lexer": "ipython3",
   "version": "3.13.2"
  }
 },
 "nbformat": 4,
 "nbformat_minor": 5
}
